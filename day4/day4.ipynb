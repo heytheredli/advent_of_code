{
 "cells": [
  {
   "cell_type": "code",
   "execution_count": 1,
   "metadata": {},
   "outputs": [],
   "source": [
    "with open('day4_input.txt', 'r') as f:\n",
    "    data = f.read()"
   ]
  },
  {
   "cell_type": "code",
   "execution_count": 2,
   "metadata": {},
   "outputs": [],
   "source": [
    "data = data.replace(' ', '\\n')\n",
    "data = data.split('\\n\\n')"
   ]
  },
  {
   "cell_type": "code",
   "execution_count": 3,
   "metadata": {},
   "outputs": [],
   "source": [
    "passport_fields = {'byr': '(Birth Year)',\n",
    "                    'iyr': '(Issue Year)',\n",
    "                    'eyr': '(Expiration Year)',\n",
    "                    'hgt': '(Height)',\n",
    "                    'hcl': '(Hair Color)',\n",
    "                    'ecl': '(Eye Color)',\n",
    "                    'pid': '(Passport ID)',\n",
    "                    'cid': '(Country ID)'}"
   ]
  },
  {
   "cell_type": "code",
   "execution_count": 4,
   "metadata": {},
   "outputs": [
    {
     "name": "stdout",
     "output_type": "stream",
     "text": [
      "100\n",
      "122\n"
     ]
    }
   ],
   "source": [
    "valid_counter_0 = 0\n",
    "valid_counter_1 = 0\n",
    "for line in data:\n",
    "    temp_passport = line.split('\\n')\n",
    "    temp_keys = []\n",
    "    for item in temp_passport:\n",
    "        key = item.split(':')[0]\n",
    "        temp_keys.append(key)\n",
    "    passport_check = set(list(passport_fields.keys())) - set(temp_keys)\n",
    "    if passport_check == set():\n",
    "        valid_counter_0 += 1\n",
    "    elif passport_check == {'cid'}:\n",
    "        valid_counter_1 += 1\n",
    "print(valid_counter_0)\n",
    "print(valid_counter_1)\n",
    "\n",
    "        \n",
    "        "
   ]
  },
  {
   "cell_type": "code",
   "execution_count": 5,
   "metadata": {},
   "outputs": [],
   "source": [
    "# part 2\n",
    "\n",
    "def data_validation(passport):\n",
    "    result = True\n",
    "    for item in passport:\n",
    "        key = item.split(':')[0]\n",
    "        value = item.split(':')[1]\n",
    "        if key == 'byr':\n",
    "            try:\n",
    "                value = int(value)\n",
    "                if value >= 1920 and value <= 2002:\n",
    "                    result = True\n",
    "                else:\n",
    "                    result = False\n",
    "                    break\n",
    "            except:\n",
    "                result = False\n",
    "                break\n",
    "        elif key == 'iyr':\n",
    "            try:\n",
    "                value = int(value)\n",
    "                if value >= 2010 and value <= 2020:\n",
    "                    result = True\n",
    "                else:\n",
    "                    result = False\n",
    "                    break\n",
    "            except:\n",
    "                result = False\n",
    "                break\n",
    "        elif key == 'eyr':\n",
    "            try:\n",
    "                value = int(value)\n",
    "                if value >= 2020 and value <= 2030:\n",
    "                    result = True\n",
    "                else:\n",
    "                    result = False\n",
    "                    break\n",
    "            except:\n",
    "                result = False\n",
    "                break\n",
    "        elif key == 'hgt':\n",
    "            if 'cm' in value:\n",
    "                try:\n",
    "                    value = value.split('cm')\n",
    "                    if float(value[0]) >= 150 and float(value[0]) <= 193:\n",
    "                        result = True\n",
    "                    else:\n",
    "                        result = False\n",
    "                        break\n",
    "                except:\n",
    "                    result = False\n",
    "                    break\n",
    "            elif 'in' in value:\n",
    "                try:\n",
    "                    value = value.split('in')\n",
    "                    if float(value[0]) >= 59 and float(value[0]) <= 76:\n",
    "                        result = True\n",
    "                    else:\n",
    "                        result = False\n",
    "                        break\n",
    "                except:\n",
    "                    result = False\n",
    "                    break\n",
    "            else:\n",
    "                result = False\n",
    "                break\n",
    "        elif key == 'hcl':\n",
    "            if value[0] == '#' and len(value) == 7:\n",
    "                if set(value[1:]) - {'0', '1', '2', '3', '4', '5', '6', '7', '8', '9',\n",
    "                       'a', 'b', 'c', 'd', 'e', 'f'} == set():\n",
    "                    result = True\n",
    "                else:\n",
    "                    result = False\n",
    "                    break\n",
    "            else:\n",
    "                result = False\n",
    "                break\n",
    "        elif key == 'ecl':\n",
    "            if value in ('amb', 'blu', 'brn', 'gry', 'grn', 'hzl', 'oth'):\n",
    "                result = True\n",
    "            else:\n",
    "                result = False\n",
    "                break\n",
    "        elif key == 'pid':\n",
    "            try:\n",
    "                value_test = int(value)\n",
    "                if len(value) == 9:\n",
    "                    result = True\n",
    "                else:\n",
    "                    result = False\n",
    "                    break\n",
    "            except:\n",
    "                result = False\n",
    "                break\n",
    "    return result"
   ]
  },
  {
   "cell_type": "code",
   "execution_count": 6,
   "metadata": {},
   "outputs": [
    {
     "name": "stdout",
     "output_type": "stream",
     "text": [
      "65\n",
      "75\n"
     ]
    }
   ],
   "source": [
    "valid_counter_0 = 0\n",
    "valid_counter_1 = 0\n",
    "for line in data:\n",
    "    temp_passport = line.split('\\n')\n",
    "    temp_keys = []\n",
    "    for item in temp_passport:\n",
    "        key = item.split(':')[0]\n",
    "        temp_keys.append(key)\n",
    "    passport_check = set(list(passport_fields.keys())) - set(temp_keys)\n",
    "    if passport_check == set() and data_validation(temp_passport):\n",
    "        valid_counter_0 += 1\n",
    "    elif passport_check == {'cid'} and data_validation(temp_passport):\n",
    "        valid_counter_1 += 1\n",
    "print(valid_counter_0)\n",
    "print(valid_counter_1)\n",
    "\n",
    "        \n",
    "        "
   ]
  },
  {
   "cell_type": "code",
   "execution_count": null,
   "metadata": {},
   "outputs": [],
   "source": []
  }
 ],
 "metadata": {
  "kernelspec": {
   "display_name": "Python 3",
   "language": "python",
   "name": "python3"
  },
  "language_info": {
   "codemirror_mode": {
    "name": "ipython",
    "version": 3
   },
   "file_extension": ".py",
   "mimetype": "text/x-python",
   "name": "python",
   "nbconvert_exporter": "python",
   "pygments_lexer": "ipython3",
   "version": "3.7.7"
  }
 },
 "nbformat": 4,
 "nbformat_minor": 4
}
