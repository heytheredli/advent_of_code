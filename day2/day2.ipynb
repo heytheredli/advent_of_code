{
 "cells": [
  {
   "cell_type": "code",
   "execution_count": 1,
   "metadata": {},
   "outputs": [],
   "source": [
    "with open('day2_input.txt', 'r') as f:\n",
    "    data = f.readlines()"
   ]
  },
  {
   "cell_type": "code",
   "execution_count": 2,
   "metadata": {},
   "outputs": [],
   "source": [
    "data = [x.rstrip() for x in data]"
   ]
  },
  {
   "cell_type": "code",
   "execution_count": 3,
   "metadata": {},
   "outputs": [
    {
     "data": {
      "text/plain": [
       "625"
      ]
     },
     "execution_count": 3,
     "metadata": {},
     "output_type": "execute_result"
    }
   ],
   "source": [
    "valid_pw_count = 0\n",
    "for item in data:\n",
    "    pw = item.split(': ')[1]\n",
    "    lower_bound = int(item.split('-')[0])\n",
    "    upper_bound = int(item.split('-')[1].split(' ')[0])\n",
    "    pw_letter = item.split(' ')[1].split(':')[0]\n",
    "    pw_letter_counter = 0\n",
    "    for letter in pw:\n",
    "        if pw_letter == letter:\n",
    "            pw_letter_counter += 1\n",
    "    if pw_letter_counter >= lower_bound and pw_letter_counter <= upper_bound:\n",
    "        valid_pw_count += 1\n",
    "valid_pw_count\n",
    "    "
   ]
  },
  {
   "cell_type": "code",
   "execution_count": 4,
   "metadata": {},
   "outputs": [
    {
     "data": {
      "text/plain": [
       "391"
      ]
     },
     "execution_count": 4,
     "metadata": {},
     "output_type": "execute_result"
    }
   ],
   "source": [
    "## part 2\n",
    "valid_pw_count = 0\n",
    "for item in data:\n",
    "    pw = item.split(': ')[1]\n",
    "    lower_bound = int(item.split('-')[0])\n",
    "    upper_bound = int(item.split('-')[1].split(' ')[0])\n",
    "    pw_letter = item.split(' ')[1].split(':')[0]\n",
    "    pw_letter_valid_counter = 0\n",
    "    for index, letter in enumerate(pw):\n",
    "        if pw_letter == letter and lower_bound == index + 1:\n",
    "            pw_letter_valid_counter += 1\n",
    "        elif pw_letter == letter and upper_bound == index + 1:\n",
    "            pw_letter_valid_counter += 1            \n",
    "    if pw_letter_valid_counter == 1:\n",
    "        valid_pw_count += 1\n",
    "valid_pw_count\n",
    "    "
   ]
  },
  {
   "cell_type": "code",
   "execution_count": null,
   "metadata": {},
   "outputs": [],
   "source": []
  }
 ],
 "metadata": {
  "kernelspec": {
   "display_name": "Python 3",
   "language": "python",
   "name": "python3"
  },
  "language_info": {
   "codemirror_mode": {
    "name": "ipython",
    "version": 3
   },
   "file_extension": ".py",
   "mimetype": "text/x-python",
   "name": "python",
   "nbconvert_exporter": "python",
   "pygments_lexer": "ipython3",
   "version": "3.7.7"
  }
 },
 "nbformat": 4,
 "nbformat_minor": 4
}
