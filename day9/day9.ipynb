{
 "cells": [
  {
   "cell_type": "code",
   "execution_count": 1,
   "metadata": {},
   "outputs": [],
   "source": [
    "with open('day9_input.txt', 'r') as f:\n",
    "    data = f.readlines()"
   ]
  },
  {
   "cell_type": "code",
   "execution_count": 4,
   "metadata": {},
   "outputs": [],
   "source": [
    "data = [eval(x.rstrip()) for x in data]"
   ]
  },
  {
   "cell_type": "code",
   "execution_count": 7,
   "metadata": {},
   "outputs": [
    {
     "name": "stdout",
     "output_type": "stream",
     "text": [
      "756008079\n"
     ]
    }
   ],
   "source": [
    "index_low = 0\n",
    "index_high = 25\n",
    "cur_index = 26\n",
    "preamble = data[index_low:index_high]\n",
    "\n",
    "while cur_index < len(data):\n",
    "    result = False\n",
    "    for i in range(index_low, index_high):\n",
    "        for j in range(index_low+1, index_high+1):\n",
    "            if data[i] + data[j] == data[cur_index]:\n",
    "                cur_index += 1\n",
    "                index_low += 1\n",
    "                index_high += 1\n",
    "                result = True\n",
    "            if result:\n",
    "                break\n",
    "        if result:\n",
    "            break\n",
    "    if not(result):\n",
    "        print(data[cur_index])\n",
    "        break"
   ]
  },
  {
   "cell_type": "code",
   "execution_count": 20,
   "metadata": {},
   "outputs": [
    {
     "name": "stdout",
     "output_type": "stream",
     "text": [
      "756008079\n",
      "93727241\n"
     ]
    }
   ],
   "source": [
    "# part 2\n",
    "\n",
    "index_low = 0\n",
    "index_high = 25\n",
    "cur_index = 26\n",
    "preamble = data[index_low:index_high]\n",
    "\n",
    "while cur_index < len(data):\n",
    "    result = False\n",
    "    for i in range(index_low, index_high):\n",
    "        for j in range(index_low+1, index_high+1):\n",
    "            if data[i] + data[j] == data[cur_index]:\n",
    "                cur_index += 1\n",
    "                index_low += 1\n",
    "                index_high += 1\n",
    "                result = True\n",
    "            if result:\n",
    "                break\n",
    "        if result:\n",
    "            break\n",
    "    if not(result):\n",
    "        print(data[cur_index])\n",
    "        break\n",
    "weakness = data[cur_index]\n",
    "weak_index = cur_index\n",
    "index_low = 0\n",
    "\n",
    "result = False\n",
    "for i in range(index_low, weak_index):\n",
    "    for j in range(i+1, weak_index):\n",
    "        total = sum(data[i:j])\n",
    "        if total == weakness:\n",
    "            result_low = i\n",
    "            result_high = j\n",
    "            result = True\n",
    "        if result:\n",
    "            break\n",
    "    if result:\n",
    "        break\n",
    "\n",
    "print(min(data[result_low:result_high]) + max(data[result_low:result_high]))\n",
    "    "
   ]
  }
 ],
 "metadata": {
  "kernelspec": {
   "display_name": "Python 3",
   "language": "python",
   "name": "python3"
  },
  "language_info": {
   "codemirror_mode": {
    "name": "ipython",
    "version": 3
   },
   "file_extension": ".py",
   "mimetype": "text/x-python",
   "name": "python",
   "nbconvert_exporter": "python",
   "pygments_lexer": "ipython3",
   "version": "3.7.7"
  }
 },
 "nbformat": 4,
 "nbformat_minor": 4
}
