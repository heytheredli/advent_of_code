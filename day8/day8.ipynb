{
 "cells": [
  {
   "cell_type": "code",
   "execution_count": 3,
   "metadata": {},
   "outputs": [],
   "source": [
    "with open('day8_input.txt', 'r') as f:\n",
    "    data = f.readlines()"
   ]
  },
  {
   "cell_type": "code",
   "execution_count": 4,
   "metadata": {},
   "outputs": [],
   "source": [
    "data = [x.rstrip() for x in data]"
   ]
  },
  {
   "cell_type": "code",
   "execution_count": 16,
   "metadata": {},
   "outputs": [
    {
     "data": {
      "text/plain": [
       "1200"
      ]
     },
     "execution_count": 16,
     "metadata": {},
     "output_type": "execute_result"
    }
   ],
   "source": [
    "index = 0\n",
    "visited = set()\n",
    "acc = 0\n",
    "\n",
    "while index not in visited:\n",
    "    visited.add(index)\n",
    "    if data[index][:3] == 'acc':\n",
    "        acc += eval(data[index][4:])\n",
    "        index += 1\n",
    "    elif data[index][:3] == 'jmp':\n",
    "        index += eval(data[index][4:])\n",
    "    elif data[index][:3] == 'nop':\n",
    "        index += 1\n",
    "acc"
   ]
  },
  {
   "cell_type": "code",
   "execution_count": 49,
   "metadata": {},
   "outputs": [
    {
     "data": {
      "text/plain": [
       "1023"
      ]
     },
     "execution_count": 49,
     "metadata": {},
     "output_type": "execute_result"
    }
   ],
   "source": [
    "# part 2\n",
    "\n",
    "index = 0\n",
    "visited = set()\n",
    "acc = 0\n",
    "\n",
    "def check_exit(instr, index_check, data_check, visited_check, acc_check):\n",
    "    if instr == 'jmp':\n",
    "        index_check += 1\n",
    "    else:\n",
    "        index_check += eval(data_check[index_check][4:])\n",
    "    result = False\n",
    "    \n",
    "    while index_check not in visited_check:\n",
    "        visited_check.add(index_check)\n",
    "        if data_check[index_check][:3] == 'acc':\n",
    "            acc_check += eval(data_check[index_check][4:])\n",
    "            index_check += 1\n",
    "        elif data_check[index_check][:3] == 'jmp':\n",
    "            index_check += eval(data_check[index_check][4:])\n",
    "        elif data_check[index_check][:3] == 'nop':\n",
    "            index_check += 1\n",
    "        if index_check == len(data_check):\n",
    "            result = True\n",
    "            break\n",
    "    return result, acc_check, index_check\n",
    "    \n",
    "\n",
    "while index not in visited:\n",
    "    visited.add(index)\n",
    "    if data[index][:3] == 'acc':\n",
    "        acc += eval(data[index][4:])\n",
    "        index += 1\n",
    "    elif data[index][:3] == 'jmp':\n",
    "        check, acc_true, index_true = check_exit('jmp', index, data, visited.copy(), acc)\n",
    "        if check:\n",
    "            break\n",
    "        index += eval(data[index][4:])\n",
    "    elif data[index][:3] == 'nop':\n",
    "        check, acc_true, index_true = check_exit('nop', index, data, visited.copy(), acc)\n",
    "        if check:\n",
    "            break\n",
    "        index += 1\n",
    "acc_true"
   ]
  },
  {
   "cell_type": "code",
   "execution_count": null,
   "metadata": {},
   "outputs": [],
   "source": []
  }
 ],
 "metadata": {
  "kernelspec": {
   "display_name": "Python 3",
   "language": "python",
   "name": "python3"
  },
  "language_info": {
   "codemirror_mode": {
    "name": "ipython",
    "version": 3
   },
   "file_extension": ".py",
   "mimetype": "text/x-python",
   "name": "python",
   "nbconvert_exporter": "python",
   "pygments_lexer": "ipython3",
   "version": "3.7.7"
  }
 },
 "nbformat": 4,
 "nbformat_minor": 4
}
